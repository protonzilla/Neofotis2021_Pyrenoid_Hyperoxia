{
 "cells": [
  {
   "cell_type": "code",
   "execution_count": null,
   "metadata": {},
   "outputs": [],
   "source": [
    "import pandas as pd\n",
    "import matplotlib.pyplot as plt"
   ]
  },
  {
   "cell_type": "code",
   "execution_count": null,
   "metadata": {},
   "outputs": [],
   "source": [
    "# load data\n",
    "all_dataframes = pd.read_excel('oxygen.xlsx', sheet_name=None, index_col=0)\n",
    "all_dataframes.keys()"
   ]
  },
  {
   "cell_type": "code",
   "execution_count": null,
   "metadata": {},
   "outputs": [],
   "source": [
    "# settings for plots\n",
    "all_strains = [\"c1009\",\"c2343\"]\n",
    "\n",
    "avg_line_colors= {\n",
    "    \"c2343 Y\": \"lime\",\n",
    "    \"c2343 N\": \"darkgreen\",\n",
    "    \"c1009 Y\": \"skyblue\",\n",
    "    \"c1009 N\": \"darkblue\"\n",
    "}\n",
    "\n",
    "error_bar_colors = {\n",
    "    \"c1009 Y\": \"dodgerblue\",\n",
    "    \"c1009 N\":  \"blue\",\n",
    "    \"c2343 Y\":  \"greenyellow\",\n",
    "    \"c2343 N\":  \"green\"\n",
    "}"
   ]
  },
  {
   "cell_type": "code",
   "execution_count": null,
   "metadata": {},
   "outputs": [],
   "source": [
    "# show mean/std oxygen curves\n",
    "\n",
    "fig,axes = plt.subplots( len(all_strains), 1, sharex=True, sharey=True, figsize=(8,10))\n",
    "\n",
    "all_new_dataframes = {}\n",
    "\n",
    "for row_index,strain in enumerate(all_strains):\n",
    "    ax = axes[row_index]\n",
    "\n",
    "    for hydrogenPeroxide in [\"Y\", \"N\"]:\n",
    "        key = strain + \" \" + hydrogenPeroxide\n",
    "        sheet_name = key + \" HydrogenPeroxide\"\n",
    "        \n",
    "        df = all_dataframes[sheet_name]\n",
    "            \n",
    "        x = df.index\n",
    "        y = df.mean(axis=1)\n",
    "        yerr = df.std(axis=1)\n",
    "        \n",
    "        ax.errorbar(x, y=y, yerr=yerr,\n",
    "                     color=error_bar_colors[key], zorder=0)\n",
    "\n",
    "        ax.plot(x, y, label=sheet_name, \n",
    "                     color=avg_line_colors[key], zorder=100)\n",
    "\n",
    "            \n",
    "    ax.set_ylabel( strain )\n",
    "\n",
    "    ax.set_xlim(0,5000)\n",
    "    ax.set_ylim (0,1500)\n",
    "    ax.set_xlabel( \"Time (s)\" )\n",
    "    ax.legend(fontsize=8)\n",
    "    \n",
    "    \n",
    "fig.show()"
   ]
  }
 ],
 "metadata": {
  "kernelspec": {
   "display_name": "Python 3",
   "language": "python",
   "name": "python3"
  },
  "language_info": {
   "codemirror_mode": {
    "name": "ipython",
    "version": 3
   },
   "file_extension": ".py",
   "mimetype": "text/x-python",
   "name": "python",
   "nbconvert_exporter": "python",
   "pygments_lexer": "ipython3",
   "version": "3.7.6"
  }
 },
 "nbformat": 4,
 "nbformat_minor": 4
}
