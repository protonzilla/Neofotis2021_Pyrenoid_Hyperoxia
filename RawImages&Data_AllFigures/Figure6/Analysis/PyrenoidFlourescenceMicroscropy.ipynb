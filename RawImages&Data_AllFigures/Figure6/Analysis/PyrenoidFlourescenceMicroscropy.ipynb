{
 "cells": [
  {
   "cell_type": "code",
   "execution_count": 1,
   "metadata": {
    "collapsed": true,
    "deletable": true,
    "editable": true
   },
   "outputs": [],
   "source": [
    "%matplotlib inline\n",
    "\n",
    "import pandas as pd\n",
    "import numpy as np\n",
    "import matplotlib.pyplot as plt\n",
    "\n",
    "\n",
    "all_conditions = {\n",
    "    \"Minus\": \"lightcoral\", \n",
    "    \"Plus\":  \"red\",\n",
    "}\n",
    "\n",
    "all_replicates = [\"1\", \"2\", \"3\"]\n",
    "\n",
    "all_dots = [\"with dots\",\"without dots\"]\n",
    "\n",
    "filename_format = \"5357-{0}-{1}-Projection-{2}.csv\"\n",
    "\n",
    "area_df = pd.DataFrame(index=all_conditions,columns=all_dots)\n",
    "int_df = pd.DataFrame(index=all_conditions,columns=all_dots)\n",
    "\n",
    "def append_array( df, row, col, arr ):\n",
    "    if isinstance(df.loc[row,col], np.ndarray):\n",
    "        df.at[row,col] = np.concatenate([df.at[row,col], arr])\n",
    "    else:\n",
    "        df.at[row,col] = arr\n",
    "\n",
    "\n",
    "for condition in all_conditions.keys():\n",
    "    for replicate in all_replicates:\n",
    "        for dot in all_dots:\n",
    "        \n",
    "            filename = filename_format.format(condition,replicate,dot)\n",
    "            df = pd.read_csv(filename, skiprows = 11).drop(0)\n",
    "\n",
    "            append_array( area_df, condition, dot, np.array(df[\"Area\"], dtype=float) )\n",
    "            append_array( int_df, condition, dot, np.array(df[\"Integration\"], dtype=float) )"
   ]
  },
  {
   "cell_type": "code",
   "execution_count": 2,
   "metadata": {
    "collapsed": true,
    "deletable": true,
    "editable": true
   },
   "outputs": [],
   "source": [
    "int_dot = int_df[\"with dots\"] - int_df[\"without dots\"]\n",
    "area_dot = area_df[\"with dots\"] - area_df[\"without dots\"]\n",
    "avg_dot = int_dot / area_dot"
   ]
  },
  {
   "cell_type": "code",
   "execution_count": 3,
   "metadata": {
    "collapsed": false,
    "deletable": true,
    "editable": true
   },
   "outputs": [
    {
     "data": {
      "image/png": "[encoded data removed]",
      "text/plain": [
       "<Figure size 360x432 with 1 Axes>"
      ]
     },
     "metadata": {
      "needs_background": "light"
     },
     "output_type": "display_data"
    }
   ],
   "source": [
    "plt.figure(figsize=(5,6))\n",
    "for x,condition in enumerate(all_conditions.keys()):\n",
    "    values = int_df.loc[condition,\"without dots\"]/area_df.loc[condition,\"without dots\"]\n",
    "    color = all_conditions[condition]\n",
    "    plt.bar( x, values.mean(), yerr=values.std(), label=condition, color=color, width=.4 )\n",
    "plt.legend()\n",
    "plt.title(\"average intensity outside of dot\")\n",
    "\n",
    "plt.xlim(-1,2)\n",
    "\n",
    "plt.show()"
   ]
  },
  {
   "cell_type": "code",
   "execution_count": 4,
   "metadata": {
    "collapsed": false,
    "deletable": true,
    "editable": true
   },
   "outputs": [
    {
     "data": {
      "image/png": "[encoded data removed]",
      "text/plain": [
       "<Figure size 360x432 with 1 Axes>"
      ]
     },
     "metadata": {
      "needs_background": "light"
     },
     "output_type": "display_data"
    }
   ],
   "source": [
    "plt.figure(figsize=(5,6))\n",
    "for x,condition in enumerate(all_conditions.keys()):\n",
    "    values = area_dot[x]\n",
    "    color = all_conditions[condition]\n",
    "    plt.bar( x, values.mean(), yerr=values.std(), label=condition, color=color, width=.4 )\n",
    "plt.legend()\n",
    "plt.title( \"area of dot\")\n",
    "plt.show()"
   ]
  },
  {
   "cell_type": "code",
   "execution_count": null,
   "metadata": {
    "collapsed": true,
    "deletable": true,
    "editable": true
   },
   "outputs": [],
   "source": []
  },
  {
   "cell_type": "code",
   "execution_count": null,
   "metadata": {
    "collapsed": true,
    "deletable": true,
    "editable": true
   },
   "outputs": [],
   "source": []
  }
 ],
 "metadata": {
  "kernelspec": {
   "display_name": "Python 3",
   "language": "python",
   "name": "python3"
  },
  "language_info": {
   "codemirror_mode": {
    "name": "ipython",
    "version": 3
   },
   "file_extension": ".py",
   "mimetype": "text/x-python",
   "name": "python",
   "nbconvert_exporter": "python",
   "pygments_lexer": "ipython3",
   "version": "3.5.2"
  }
 },
 "nbformat": 4,
 "nbformat_minor": 2
}
