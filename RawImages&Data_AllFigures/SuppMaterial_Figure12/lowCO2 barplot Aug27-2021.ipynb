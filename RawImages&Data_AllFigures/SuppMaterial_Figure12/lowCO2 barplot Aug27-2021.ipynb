{
 "cells": [
  {
   "cell_type": "code",
   "execution_count": 1,
   "metadata": {},
   "outputs": [],
   "source": [
    "import pandas as pd\n",
    "import numpy as np\n",
    "import matplotlib.pyplot as plt"
   ]
  },
  {
   "cell_type": "code",
   "execution_count": 2,
   "metadata": {},
   "outputs": [],
   "source": [
    "# load data\n",
    "df = pd.read_excel('lowCO2_bubbler_results.xlsx')"
   ]
  },
  {
   "cell_type": "code",
   "execution_count": 3,
   "metadata": {},
   "outputs": [
    {
     "data": {
      "image/png": "[encoded data removed]",
      "text/plain": [
       "<Figure size 576x432 with 1 Axes>"
      ]
     },
     "metadata": {
      "needs_background": "light"
     },
     "output_type": "display_data"
    }
   ],
   "source": [
    "# show a barplot with mean and std for each sample\n",
    "measurement = \"Average AFDW (mg/L)\"\n",
    "\n",
    "all_samples = sorted(list(set(df[\"sample\"])))\n",
    "x = range(len(all_samples))\n",
    "y,yerr = [],[]\n",
    "\n",
    "for sample in all_samples:\n",
    "    values = df.loc[df['sample'] == sample,measurement]\n",
    "    y.append(values.mean())\n",
    "    yerr.append(values.std())\n",
    "\n",
    "plt.figure(figsize=(8,6))\n",
    "plt.bar(x=x, height=y, yerr=yerr, color=\"gray\")\n",
    "plt.xticks( x, all_samples )\n",
    "plt.ylabel(\"biomass (mg/L)\")\n",
    "plt.savefig('Biomass_CO2.jpg',dpi=600)\n",
    "plt.show()\n"
   ]
  }
 ],
 "metadata": {
  "kernelspec": {
   "display_name": "Python 3",
   "language": "python",
   "name": "python3"
  },
  "language_info": {
   "codemirror_mode": {
    "name": "ipython",
    "version": 3
   },
   "file_extension": ".py",
   "mimetype": "text/x-python",
   "name": "python",
   "nbconvert_exporter": "python",
   "pygments_lexer": "ipython3",
   "version": "3.8.5"
  }
 },
 "nbformat": 4,
 "nbformat_minor": 2
}
