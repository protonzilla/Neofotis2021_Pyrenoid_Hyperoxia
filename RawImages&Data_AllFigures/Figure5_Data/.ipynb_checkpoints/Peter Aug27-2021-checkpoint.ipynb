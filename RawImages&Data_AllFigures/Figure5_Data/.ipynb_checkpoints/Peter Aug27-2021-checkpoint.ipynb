{
 "cells": [
  {
   "cell_type": "code",
   "execution_count": 1,
   "metadata": {
    "collapsed": true,
    "deletable": true,
    "editable": true
   },
   "outputs": [],
   "source": [
    "import pandas as pd\n",
    "import numpy as np\n",
    "import matplotlib.pyplot as plt\n",
    "from scipy import stats"
   ]
  },
  {
   "cell_type": "code",
   "execution_count": 2,
   "metadata": {
    "collapsed": false,
    "deletable": true,
    "editable": true,
    "scrolled": true
   },
   "outputs": [
    {
     "data": {
      "text/html": [
       "<div>\n",
       "<style>\n",
       "    .dataframe thead tr:only-child th {\n",
       "        text-align: right;\n",
       "    }\n",
       "\n",
       "    .dataframe thead th {\n",
       "        text-align: left;\n",
       "    }\n",
       "\n",
       "    .dataframe tbody tr th {\n",
       "        vertical-align: top;\n",
       "    }\n",
       "</style>\n",
       "<table border=\"1\" class=\"dataframe\">\n",
       "  <thead>\n",
       "    <tr style=\"text-align: right;\">\n",
       "      <th></th>\n",
       "      <th>CellArea</th>\n",
       "      <th>OuterP</th>\n",
       "      <th>InnerP</th>\n",
       "      <th>Strain</th>\n",
       "      <th>Condition</th>\n",
       "      <th>Pyrenoid Sheath Size</th>\n",
       "      <th>Gaps</th>\n",
       "      <th>Comment</th>\n",
       "    </tr>\n",
       "  </thead>\n",
       "  <tbody>\n",
       "    <tr>\n",
       "      <th>CC_1009 6 Hours _#0.jpg</th>\n",
       "      <td>1812418.0</td>\n",
       "      <td>224154.0</td>\n",
       "      <td>46917.0</td>\n",
       "      <td>CC-1009</td>\n",
       "      <td>6 Hours Hyperoxia</td>\n",
       "      <td>0.097790</td>\n",
       "      <td>0.0</td>\n",
       "      <td>NaN</td>\n",
       "    </tr>\n",
       "    <tr>\n",
       "      <th>CC_2343 6 Hours_#0.jpg</th>\n",
       "      <td>2880607.0</td>\n",
       "      <td>398162.0</td>\n",
       "      <td>188621.0</td>\n",
       "      <td>CC-2343</td>\n",
       "      <td>6 Hours Hyperoxia</td>\n",
       "      <td>0.072742</td>\n",
       "      <td>3.0</td>\n",
       "      <td>NaN</td>\n",
       "    </tr>\n",
       "    <tr>\n",
       "      <th>MP1_1 6 hours_#0.jpg</th>\n",
       "      <td>1566280.0</td>\n",
       "      <td>170496.0</td>\n",
       "      <td>42900.0</td>\n",
       "      <td>c1_1</td>\n",
       "      <td>6 hours Hyperoxia</td>\n",
       "      <td>0.081464</td>\n",
       "      <td>0.0</td>\n",
       "      <td>NaN</td>\n",
       "    </tr>\n",
       "    <tr>\n",
       "      <th>MP1_2 6 hours_#0.jpg</th>\n",
       "      <td>1036073.0</td>\n",
       "      <td>251124.0</td>\n",
       "      <td>81890.0</td>\n",
       "      <td>c1_2</td>\n",
       "      <td>6 hours Hyperoxia</td>\n",
       "      <td>0.163342</td>\n",
       "      <td>0.0</td>\n",
       "      <td>NaN</td>\n",
       "    </tr>\n",
       "    <tr>\n",
       "      <th>MP1_3 6 hours #0.jpg</th>\n",
       "      <td>2644044.0</td>\n",
       "      <td>166692.0</td>\n",
       "      <td>130522.0</td>\n",
       "      <td>c1_3</td>\n",
       "      <td>6 hours Hyperoxia</td>\n",
       "      <td>0.013680</td>\n",
       "      <td>6.0</td>\n",
       "      <td>NaN</td>\n",
       "    </tr>\n",
       "  </tbody>\n",
       "</table>\n",
       "</div>"
      ],
      "text/plain": [
       "                          CellArea    OuterP    InnerP  Strain   \\\n",
       "CC_1009 6 Hours _#0.jpg  1812418.0  224154.0   46917.0  CC-1009   \n",
       "CC_2343 6 Hours_#0.jpg   2880607.0  398162.0  188621.0  CC-2343   \n",
       "MP1_1 6 hours_#0.jpg     1566280.0  170496.0   42900.0     c1_1   \n",
       "MP1_2 6 hours_#0.jpg     1036073.0  251124.0   81890.0     c1_2   \n",
       "MP1_3 6 hours #0.jpg     2644044.0  166692.0  130522.0     c1_3   \n",
       "\n",
       "                                Condition   Pyrenoid Sheath Size  Gaps  \\\n",
       "CC_1009 6 Hours _#0.jpg  6 Hours Hyperoxia              0.097790   0.0   \n",
       "CC_2343 6 Hours_#0.jpg   6 Hours Hyperoxia              0.072742   3.0   \n",
       "MP1_1 6 hours_#0.jpg     6 hours Hyperoxia              0.081464   0.0   \n",
       "MP1_2 6 hours_#0.jpg     6 hours Hyperoxia              0.163342   0.0   \n",
       "MP1_3 6 hours #0.jpg     6 hours Hyperoxia              0.013680   6.0   \n",
       "\n",
       "                        Comment   \n",
       "CC_1009 6 Hours _#0.jpg      NaN  \n",
       "CC_2343 6 Hours_#0.jpg       NaN  \n",
       "MP1_1 6 hours_#0.jpg         NaN  \n",
       "MP1_2 6 hours_#0.jpg         NaN  \n",
       "MP1_3 6 hours #0.jpg         NaN  "
      ]
     },
     "execution_count": 2,
     "metadata": {},
     "output_type": "execute_result"
    }
   ],
   "source": [
    "df = pd.read_excel(\"PyrenoidImageJAnalysis4.xlsx\")\n",
    "df.head()"
   ]
  },
  {
   "cell_type": "code",
   "execution_count": 3,
   "metadata": {
    "collapsed": false,
    "deletable": true,
    "editable": true
   },
   "outputs": [
    {
     "data": {
      "text/plain": [
       "Index(['CellArea', 'OuterP', 'InnerP', 'Strain ', 'Condition ',\n",
       "       'Pyrenoid Sheath Size', 'Gaps', 'Comment '],\n",
       "      dtype='object')"
      ]
     },
     "execution_count": 3,
     "metadata": {},
     "output_type": "execute_result"
    }
   ],
   "source": [
    "df.columns"
   ]
  },
  {
   "cell_type": "code",
   "execution_count": 4,
   "metadata": {
    "collapsed": true,
    "deletable": true,
    "editable": true
   },
   "outputs": [],
   "source": [
    "all_strains = [\"CC-1009\", \"CC-2343\" ]\n",
    "\n",
    "all_conditions = ['Control', 'Hydrogen Peroxide ']\n",
    "\n",
    "all_colors = {\n",
    "    (\"CC-1009\",'Control'):\"darkblue\",\n",
    "    (\"CC-1009\",'Hydrogen Peroxide '):\"lightblue\",\n",
    "    (\"CC-2343\",'Control'):\"darkgreen\",\n",
    "    (\"CC-2343\",'Hydrogen Peroxide '):\"lightgreen\"\n",
    "}\n",
    "\n",
    "compare_groups = [\n",
    "    [(\"CC-1009\", \"Control\"), (\"CC-1009\", \"Hydrogen Peroxide \")],\n",
    "    [(\"CC-2343\", \"Control\"), (\"CC-2343\", \"Hydrogen Peroxide \")]\n",
    "]\n",
    "\n",
    "# saved figures will have a solid white background\n",
    "plt.rcParams.update({\n",
    "    \"savefig.facecolor\": (1.0, 1.0, 1.0, 1.0)\n",
    "})"
   ]
  },
  {
   "cell_type": "code",
   "execution_count": 5,
   "metadata": {
    "collapsed": false,
    "deletable": true,
    "editable": true
   },
   "outputs": [
    {
     "name": "stderr",
     "output_type": "stream",
     "text": [
      "/Users/pneofotis/Library/Enthought/Canopy/edm/envs/User/lib/python3.5/site-packages/matplotlib/figure.py:402: UserWarning: matplotlib is currently using a non-GUI backend, so cannot show the figure\n",
      "  \"matplotlib is currently using a non-GUI backend, \"\n"
     ]
    },
    {
     "ename": "TypeError",
     "evalue": "object of type 'bool' has no len()",
     "output_type": "error",
     "traceback": [
      "\u001b[0;31m---------------------------------------------------------------------------\u001b[0m",
      "\u001b[0;31mTypeError\u001b[0m                                 Traceback (most recent call last)",
      "\u001b[0;32m<ipython-input-5-25313c8f78c1>\u001b[0m in \u001b[0;36m<module>\u001b[0;34m()\u001b[0m\n\u001b[1;32m     32\u001b[0m \u001b[0;31m#\u001b[0m\u001b[0;34m\u001b[0m\u001b[0;34m\u001b[0m\u001b[0m\n\u001b[1;32m     33\u001b[0m \u001b[0max\u001b[0m \u001b[0;34m=\u001b[0m \u001b[0mfig\u001b[0m\u001b[0;34m.\u001b[0m\u001b[0madd_axes\u001b[0m\u001b[0;34m(\u001b[0m\u001b[0;34m[\u001b[0m\u001b[0;36m.5\u001b[0m\u001b[0;34m,\u001b[0m \u001b[0;36m0\u001b[0m\u001b[0;34m,\u001b[0m \u001b[0;36m.5\u001b[0m\u001b[0;34m,\u001b[0m \u001b[0;36m1\u001b[0m\u001b[0;34m]\u001b[0m\u001b[0;34m)\u001b[0m\u001b[0;34m\u001b[0m\u001b[0m\n\u001b[0;32m---> 34\u001b[0;31m \u001b[0max\u001b[0m\u001b[0;34m.\u001b[0m\u001b[0maxis\u001b[0m\u001b[0;34m(\u001b[0m\u001b[0;32mFalse\u001b[0m\u001b[0;34m)\u001b[0m\u001b[0;34m\u001b[0m\u001b[0m\n\u001b[0m\u001b[1;32m     35\u001b[0m \u001b[0;32mfor\u001b[0m \u001b[0mi\u001b[0m\u001b[0;34m,\u001b[0m\u001b[0mgroup_pair\u001b[0m \u001b[0;32min\u001b[0m \u001b[0menumerate\u001b[0m\u001b[0;34m(\u001b[0m\u001b[0mcompare_groups\u001b[0m\u001b[0;34m)\u001b[0m\u001b[0;34m:\u001b[0m\u001b[0;34m\u001b[0m\u001b[0m\n\u001b[1;32m     36\u001b[0m     \u001b[0;34m(\u001b[0m\u001b[0mstrain_a\u001b[0m\u001b[0;34m,\u001b[0m\u001b[0mcond_a\u001b[0m\u001b[0;34m)\u001b[0m \u001b[0;34m=\u001b[0m \u001b[0mgroup_pair\u001b[0m\u001b[0;34m[\u001b[0m\u001b[0;36m0\u001b[0m\u001b[0;34m]\u001b[0m\u001b[0;34m\u001b[0m\u001b[0m\n",
      "\u001b[0;32m/Users/pneofotis/Library/Enthought/Canopy/edm/envs/User/lib/python3.5/site-packages/matplotlib/axes/_base.py\u001b[0m in \u001b[0;36maxis\u001b[0;34m(self, *v, **kwargs)\u001b[0m\n\u001b[1;32m   1631\u001b[0m \u001b[0;34m\u001b[0m\u001b[0m\n\u001b[1;32m   1632\u001b[0m         \u001b[0mv\u001b[0m \u001b[0;34m=\u001b[0m \u001b[0mv\u001b[0m\u001b[0;34m[\u001b[0m\u001b[0;36m0\u001b[0m\u001b[0;34m]\u001b[0m\u001b[0;34m\u001b[0m\u001b[0m\n\u001b[0;32m-> 1633\u001b[0;31m         \u001b[0;32mif\u001b[0m \u001b[0mlen\u001b[0m\u001b[0;34m(\u001b[0m\u001b[0mv\u001b[0m\u001b[0;34m)\u001b[0m \u001b[0;34m!=\u001b[0m \u001b[0;36m4\u001b[0m\u001b[0;34m:\u001b[0m\u001b[0;34m\u001b[0m\u001b[0m\n\u001b[0m\u001b[1;32m   1634\u001b[0m             \u001b[0;32mraise\u001b[0m \u001b[0mValueError\u001b[0m\u001b[0;34m(\u001b[0m\u001b[0;34m'v must contain [xmin xmax ymin ymax]'\u001b[0m\u001b[0;34m)\u001b[0m\u001b[0;34m\u001b[0m\u001b[0m\n\u001b[1;32m   1635\u001b[0m \u001b[0;34m\u001b[0m\u001b[0m\n",
      "\u001b[0;31mTypeError\u001b[0m: object of type 'bool' has no len()"
     ]
    }
   ],
   "source": [
    "y_column = \"Pyrenoid Sheath Size\"\n",
    "\n",
    "fig = plt.figure(figsize=(10,4))\n",
    "ax = fig.add_axes([.08, .15, .45, .8])\n",
    "\n",
    "all_x, all_x_labels = [],[]\n",
    "\n",
    "values_by_group = {}\n",
    "\n",
    "for x2,condition in enumerate(all_conditions):\n",
    "    for x1,strain in enumerate(all_strains):\n",
    "        values = df.loc[\n",
    "            (df['Strain '] == strain) & \n",
    "            (df[\"Condition \"] == condition),\n",
    "            y_column].values\n",
    "        values_by_group[strain,condition] = values\n",
    "        y = np.nanmean(values)\n",
    "        yerr = np.nanstd(values)\n",
    "\n",
    "        x = x1*len(all_conditions)+x2\n",
    "        all_x.append(x)\n",
    "        all_x_labels.append(\"{0}\\n{1}\".format( strain, condition ))\n",
    "\n",
    "        ax.bar(x, y, yerr=yerr, color=all_colors[strain,condition] )\n",
    "\n",
    "ax.set_xticks(all_x)\n",
    "ax.set_xticklabels(all_x_labels,rotation=0)\n",
    "ax.set_ylabel(\"Relative Pyrenoid Sheath Size.\")\n",
    "#ax.legend(bbox_to_anchor=(1, 0.5))\n",
    "fig.show()\n",
    "\n",
    "#\n",
    "ax = fig.add_axes([.5, 0, .5, 1])\n",
    "ax.axis(False)\n",
    "for i,group_pair in enumerate(compare_groups):\n",
    "    (strain_a,cond_a) = group_pair[0]\n",
    "    (strain_b,cond_b) = group_pair[1]\n",
    "    a_vals = values_by_group[strain_a,cond_a]\n",
    "    b_vals = values_by_group[strain_b,cond_b]\n",
    "    _,pval = stats.ttest_ind( a_vals, b_vals, nan_policy=\"omit\" )\n",
    "    ax.text( .2,.4+i*.2,\"({0} {1}) vs ({2} {3})\".format( strain_a,cond_a,strain_b,cond_b ))\n",
    "    ax.text( .25,.4+i*.2-.05,\"p-value: {0:.2e}\".format( pval ))\n",
    "\n",
    "plt.savefig(y_column + \".png\", dpi=300)"
   ]
  },
  {
   "cell_type": "code",
   "execution_count": null,
   "metadata": {
    "collapsed": true,
    "deletable": true,
    "editable": true
   },
   "outputs": [],
   "source": []
  },
  {
   "cell_type": "code",
   "execution_count": null,
   "metadata": {
    "collapsed": true,
    "deletable": true,
    "editable": true
   },
   "outputs": [],
   "source": []
  }
 ],
 "metadata": {
  "kernelspec": {
   "display_name": "Python 3",
   "language": "python",
   "name": "python3"
  },
  "language_info": {
   "codemirror_mode": {
    "name": "ipython",
    "version": 3
   },
   "file_extension": ".py",
   "mimetype": "text/x-python",
   "name": "python",
   "nbconvert_exporter": "python",
   "pygments_lexer": "ipython3",
   "version": "3.5.2"
  }
 },
 "nbformat": 4,
 "nbformat_minor": 4
}
