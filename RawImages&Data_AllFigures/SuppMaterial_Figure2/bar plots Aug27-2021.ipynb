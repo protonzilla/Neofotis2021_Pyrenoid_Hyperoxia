{
 "cells": [
  {
   "cell_type": "code",
   "execution_count": null,
   "metadata": {},
   "outputs": [],
   "source": [
    "import pandas as pd\n",
    "import matplotlib.pyplot as plt"
   ]
  },
  {
   "cell_type": "code",
   "execution_count": null,
   "metadata": {},
   "outputs": [],
   "source": [
    "# load data\n",
    "filename = \"data.xlsx\"\n",
    "df = pd.read_excel(filename, header=9)"
   ]
  },
  {
   "cell_type": "code",
   "execution_count": null,
   "metadata": {},
   "outputs": [],
   "source": [
    "# settings for plots\n",
    "strain_colors={\n",
    "    1009: \"blue\",\n",
    "    2343: \"green\"\n",
    "}"
   ]
  },
  {
   "cell_type": "code",
   "execution_count": null,
   "metadata": {},
   "outputs": [],
   "source": [
    "# show barplots\n",
    "fig,axes = plt.subplots( 2, 1, figsize=(10,10), sharey=\"row\")\n",
    "\n",
    "subplot_row_index = 0\n",
    "prefix = \"2NBH\"\n",
    "\n",
    "for data_column in [\"Cell Count (cells/mL)\",\"Total Chlorophyll (µg/mL)\"]:\n",
    "    xticks = []\n",
    "    xlabels = []\n",
    "    for subplot_col_index,strain in enumerate(strain_colors.keys()):\n",
    "        color = strain_colors[strain]\n",
    "        ax = axes[subplot_row_index]\n",
    "\n",
    "        bar_data = df.loc[(df[\"Sample\"] == strain) & df[\"Media\"].str.startswith(prefix),data_column]\n",
    "\n",
    "        x_pos = subplot_col_index * 2\n",
    "        ax.bar( x_pos, bar_data.mean(), yerr=bar_data.std(), color=color)\n",
    "        xticks.append(x_pos)\n",
    "        xlabels.append(strain)\n",
    "\n",
    "        ax.ticklabel_format( axis=\"y\", style=\"sci\", scilimits=(0,2))\n",
    "        ax.set_ylabel( data_column )\n",
    "        ax.set_xticks( xticks )\n",
    "        ax.set_xticklabels( xlabels, rotation=20 )\n",
    "        ax.set_xlim(-1,3)\n",
    "\n",
    "    subplot_row_index += 1\n",
    "        \n",
    "plt.subplots_adjust(hspace=.3)\n",
    "fig.show()"
   ]
  },
  {
   "cell_type": "code",
   "execution_count": null,
   "metadata": {},
   "outputs": [],
   "source": []
  }
 ],
 "metadata": {
  "kernelspec": {
   "display_name": "Python 3",
   "language": "python",
   "name": "python3"
  },
  "language_info": {
   "codemirror_mode": {
    "name": "ipython",
    "version": 3
   },
   "file_extension": ".py",
   "mimetype": "text/x-python",
   "name": "python",
   "nbconvert_exporter": "python",
   "pygments_lexer": "ipython3",
   "version": "3.7.6"
  }
 },
 "nbformat": 4,
 "nbformat_minor": 4
}
